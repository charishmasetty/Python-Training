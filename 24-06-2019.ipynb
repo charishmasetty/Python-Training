{
 "cells": [
  {
   "cell_type": "markdown",
   "metadata": {},
   "source": [
    "### Example 1\n",
    "\n",
    "#### Print sum of even numbers"
   ]
  },
  {
   "cell_type": "code",
   "execution_count": 1,
   "metadata": {},
   "outputs": [
    {
     "name": "stdout",
     "output_type": "stream",
     "text": [
      "90\n"
     ]
    }
   ],
   "source": [
    "def printeven(n):\n",
    "    count=0\n",
    "    sum=0\n",
    "    while count!=n:\n",
    "        if count%2==0:\n",
    "            sum=sum+count\n",
    "        count=count+1\n",
    "    return sum\n",
    "\n",
    "print(printeven(20))"
   ]
  },
  {
   "cell_type": "markdown",
   "metadata": {},
   "source": [
    "### Example 2\n",
    "\n",
    "#### Print the list of factors"
   ]
  },
  {
   "cell_type": "code",
   "execution_count": 2,
   "metadata": {},
   "outputs": [
    {
     "name": "stdout",
     "output_type": "stream",
     "text": [
      "1 2 3 4 6 "
     ]
    }
   ],
   "source": [
    "def factorslist(n):\n",
    "    i=1\n",
    "    while i!=n:\n",
    "        if n%i==0:\n",
    "            print(i,end=\" \")\n",
    "        i=i+1\n",
    "    return \n",
    "factorslist(12)\n",
    "        "
   ]
  },
  {
   "cell_type": "markdown",
   "metadata": {},
   "source": [
    "### Example of list \n",
    "\n",
    "* list1 = [1,2,3,4,5]\n",
    "* list2 = [\"Aravind\",\"Anil\",\"Akhil\",\"Akash\"]\n"
   ]
  },
  {
   "cell_type": "code",
   "execution_count": 2,
   "metadata": {},
   "outputs": [
    {
     "name": "stdout",
     "output_type": "stream",
     "text": [
      "1\n",
      "2\n",
      "3\n",
      "4\n",
      "5\n",
      "6\n",
      "7\n",
      "[4, 5, 6, 7]\n",
      "[1, 2, 3]\n",
      "[1, 2, 3, 4, 5, 6, 7]\n"
     ]
    }
   ],
   "source": [
    "list1 = [1,2,3,4,5,6,7]\n",
    "for x in list1:\n",
    "    print(x)\n",
    "print(list1[3:7])\n",
    "print(list1[:3])\n",
    "print(list1[:7])"
   ]
  },
  {
   "cell_type": "markdown",
   "metadata": {},
   "source": [
    "## For loop \n",
    " ### Syntax\n",
    "     for <variable name> in <seq>:"
   ]
  },
  {
   "cell_type": "markdown",
   "metadata": {},
   "source": [
    "### Example 1"
   ]
  },
  {
   "cell_type": "code",
   "execution_count": 3,
   "metadata": {},
   "outputs": [
    {
     "name": "stdout",
     "output_type": "stream",
     "text": [
      "Akhil Aravind Anil Akash "
     ]
    }
   ],
   "source": [
    "list2 = [\"Akhil\",\"Aravind\",\"Anil\",\"Akash\"]\n",
    "for x in list2:\n",
    "    print(x,end=\" \")\n",
    "    "
   ]
  },
  {
   "cell_type": "markdown",
   "metadata": {},
   "source": [
    "### Example 2"
   ]
  },
  {
   "cell_type": "code",
   "execution_count": 4,
   "metadata": {},
   "outputs": [
    {
     "name": "stdout",
     "output_type": "stream",
     "text": [
      "1\n",
      "2\n",
      "3\n",
      "4\n",
      "5\n",
      "6\n",
      "7\n",
      "[2, 3, 4, 5, 6]\n",
      "[3, 4, 5]\n",
      "[1, 4, 7]\n",
      "[7, 5, 3, 1]\n"
     ]
    }
   ],
   "source": [
    "list1 = [1,2,3,4,5,6,7]\n",
    "for x in list1:\n",
    "    print(x)\n",
    "print(list1[1:-1])\n",
    "print(list1[2:-2])\n",
    "print(list1[::3])\n",
    "print(list1[::-2])"
   ]
  },
  {
   "cell_type": "markdown",
   "metadata": {},
   "source": [
    "## List with range"
   ]
  },
  {
   "cell_type": "code",
   "execution_count": 5,
   "metadata": {},
   "outputs": [
    {
     "name": "stdout",
     "output_type": "stream",
     "text": [
      "['Akhil', 'Aravind', 'Anil', 1]\n",
      "['Akhil', 'Aravind', 15, 1]\n",
      "['Akhil', 'Aravind', 15]\n",
      "['Akhil', 'Gitam', 15]\n",
      "[1, 2, 3]\n",
      "['Akhil', 'Gitam', 15, 1, 2, 3]\n"
     ]
    }
   ],
   "source": [
    "list2 = [\"Akhil\",\"Aravind\",\"Anil\",1]\n",
    "print(list2)\n",
    "list2[2]=15 #updating the list item \n",
    "print(list2)\n",
    "del list2[3] #deleting a list item\n",
    "print(list2)\n",
    "list2[1]=\"Gitam\"\n",
    "print(list2)\n",
    "list3=[1,2,3]\n",
    "print(list3)\n",
    "print(list2+list3)#concatination of both the lines"
   ]
  },
  {
   "cell_type": "code",
   "execution_count": 6,
   "metadata": {},
   "outputs": [
    {
     "name": "stdout",
     "output_type": "stream",
     "text": [
      "[1, 2, 3, 4, 5]\n",
      "[1, 2, 4, 5]\n",
      "4\n",
      "[1, 2, 4, 15, 15, 150, 1, 3, 1]\n",
      "3\n",
      "1\n"
     ]
    }
   ],
   "source": [
    "list1 = [1,2,3,4,5]\n",
    "print(list1)\n",
    "del list1[2]\n",
    "print(list1)\n",
    "list1[3] = 15\n",
    "print(len(list1))#to find the len of the list\n",
    "list1.append(15)\n",
    "list1.append(150)\n",
    "list1.append(1)\n",
    "list1.append(3)\n",
    "list1.append(1)\n",
    "print(list1)\n",
    "print(list1.count(1))\n",
    "print(list1.count(3))"
   ]
  },
  {
   "cell_type": "markdown",
   "metadata": {},
   "source": [
    "## List methods\n",
    "### * Index(obj)\n",
    "#### The index method gives the index of the object in the list\n",
    "\n",
    "### * Remove(obj)\n",
    "#### The remove method removes the passed object from the list\n",
    "\n",
    "### * Reverse(obj)\n",
    "#### the reverse option prints the reverse of the list"
   ]
  },
  {
   "cell_type": "markdown",
   "metadata": {},
   "source": [
    "### Index(obj)"
   ]
  },
  {
   "cell_type": "code",
   "execution_count": 7,
   "metadata": {},
   "outputs": [
    {
     "name": "stdout",
     "output_type": "stream",
     "text": [
      "['Akhil', 'Aravind', 'Anil', 1]\n",
      "0\n",
      "3\n",
      "4\n",
      "['Akhil', 'Aravind', 2019, 'Anil', 1]\n",
      "5\n",
      "['Akhil', 'Aravind', 2019, 'Anil', 2019, 1]\n"
     ]
    }
   ],
   "source": [
    "list2 = ['Akhil','Aravind','Anil',1]\n",
    "print(list2)\n",
    "print(list2.index(\"Akhil\"))#Finding the index of the object in the list\n",
    "print(list2.index(1))\n",
    "print(len(list2))\n",
    "list2.insert(2,2019)\n",
    "print(list2)\n",
    "print(len(list2))\n",
    "list2.insert(4,2019)\n",
    "print(list2)"
   ]
  },
  {
   "cell_type": "markdown",
   "metadata": {},
   "source": [
    "### Remove(obj)"
   ]
  },
  {
   "cell_type": "code",
   "execution_count": null,
   "metadata": {},
   "outputs": [],
   "source": [
    "list2 = ['Akhil','Aravind','Anil',1]\n",
    "print(list2)\n",
    "list2.remove('Akhil')\n",
    "print(list2)"
   ]
  },
  {
   "cell_type": "markdown",
   "metadata": {},
   "source": [
    "### Reverse(obj)"
   ]
  },
  {
   "cell_type": "code",
   "execution_count": null,
   "metadata": {},
   "outputs": [],
   "source": [
    "list2 = ['Akhil','Aravind','Anil',1]\n",
    "print(list2)\n",
    "list2.reverse()\n",
    "print(list2)"
   ]
  }
 ],
 "metadata": {
  "kernelspec": {
   "display_name": "Python 3",
   "language": "python",
   "name": "python3"
  },
  "language_info": {
   "codemirror_mode": {
    "name": "ipython",
    "version": 3
   },
   "file_extension": ".py",
   "mimetype": "text/x-python",
   "name": "python",
   "nbconvert_exporter": "python",
   "pygments_lexer": "ipython3",
   "version": "3.7.3"
  }
 },
 "nbformat": 4,
 "nbformat_minor": 2
}
