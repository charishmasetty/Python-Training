{
 "cells": [
  {
   "cell_type": "code",
   "execution_count": 1,
   "metadata": {},
   "outputs": [
    {
     "name": "stdout",
     "output_type": "stream",
     "text": [
      "yes\n"
     ]
    }
   ],
   "source": [
    "x=20\n",
    "if x==20:\n",
    "    print(\"yes\")"
   ]
  },
  {
   "cell_type": "markdown",
   "metadata": {},
   "source": [
    "### Example 3\n",
    "\n",
    "#### if-else "
   ]
  },
  {
   "cell_type": "code",
   "execution_count": 2,
   "metadata": {},
   "outputs": [
    {
     "name": "stdout",
     "output_type": "stream",
     "text": [
      "Hello ge\n"
     ]
    }
   ],
   "source": [
    "x=10\n",
    "if x>15:\n",
    "    print(\"Hello gm\")\n",
    "else:\n",
    "    print(\"Hello ge\")"
   ]
  },
  {
   "cell_type": "markdown",
   "metadata": {},
   "source": [
    "### Example 4\n",
    "\n",
    "#### x and y is the input largest between them"
   ]
  },
  {
   "cell_type": "code",
   "execution_count": 3,
   "metadata": {},
   "outputs": [
    {
     "name": "stdout",
     "output_type": "stream",
     "text": [
      "y is greater\n"
     ]
    }
   ],
   "source": [
    "x=10\n",
    "y=20\n",
    "if x>y:\n",
    "    print(\"x is greater\")\n",
    "else:\n",
    "    print(\"y is greater\")"
   ]
  },
  {
   "cell_type": "markdown",
   "metadata": {},
   "source": [
    "### Example 5\n",
    "\n",
    "#### Need 2 numbers as input if both are same than output must be square of first number if not the output must be multiplication of the inputs"
   ]
  },
  {
   "cell_type": "code",
   "execution_count": 4,
   "metadata": {},
   "outputs": [
    {
     "name": "stdout",
     "output_type": "stream",
     "text": [
      "200\n"
     ]
    }
   ],
   "source": [
    "x=10\n",
    "y=20\n",
    "if x==y:\n",
    "    print(x*x)\n",
    "else:\n",
    "    print(x*y)\n"
   ]
  },
  {
   "cell_type": "markdown",
   "metadata": {},
   "source": [
    "### Example 6\n",
    "\n",
    "#### Only one number as input and look if the number is 0,-,+."
   ]
  },
  {
   "cell_type": "code",
   "execution_count": 5,
   "metadata": {},
   "outputs": [
    {
     "name": "stdout",
     "output_type": "stream",
     "text": [
      "It is a negative number\n"
     ]
    }
   ],
   "source": [
    "x=-10\n",
    "if x<0:\n",
    "    print(\"It is a negative number\")\n",
    "elif x>0:\n",
    "    print(\"It is a positive number\")\n",
    "elif x==0:\n",
    "    print(\"Its a zero\")"
   ]
  },
  {
   "cell_type": "markdown",
   "metadata": {},
   "source": [
    "# Loop Statements--while\n",
    "\n",
    "#### Syntax:- While(Condition):Loop statements Increment/Decrement.\n",
    "#### The loop will execute until the given condition is true."
   ]
  },
  {
   "cell_type": "markdown",
   "metadata": {},
   "source": [
    "### Example 1"
   ]
  },
  {
   "cell_type": "code",
   "execution_count": 6,
   "metadata": {},
   "outputs": [
    {
     "name": "stdout",
     "output_type": "stream",
     "text": [
      "1\n",
      "2\n",
      "3\n",
      "4\n",
      "5\n",
      "6\n",
      "7\n",
      "8\n",
      "9\n",
      "10\n"
     ]
    }
   ],
   "source": [
    "n=1\n",
    "while n<=10:\n",
    "    print(n)\n",
    "    n=n+1"
   ]
  },
  {
   "cell_type": "markdown",
   "metadata": {},
   "source": [
    "### Example 2\n",
    "\n",
    "#### Print numbers from 10 to 1"
   ]
  },
  {
   "cell_type": "code",
   "execution_count": 7,
   "metadata": {},
   "outputs": [
    {
     "name": "stdout",
     "output_type": "stream",
     "text": [
      "10\n",
      "9\n",
      "8\n",
      "7\n",
      "6\n",
      "5\n",
      "4\n",
      "3\n",
      "2\n",
      "1\n"
     ]
    }
   ],
   "source": [
    "n=10\n",
    "while n>=1:\n",
    "    print(n)\n",
    "    n=n-1"
   ]
  },
  {
   "cell_type": "markdown",
   "metadata": {},
   "source": [
    "### Example 3\n",
    "\n",
    "#### Print numbers from -22 to -45."
   ]
  },
  {
   "cell_type": "markdown",
   "metadata": {},
   "source": [
    "n=-22\n",
    "while n>=-45:\n",
    "    print(n)\n",
    "    n=n-1"
   ]
  },
  {
   "cell_type": "markdown",
   "metadata": {},
   "source": [
    "### Example 4\n",
    "\n",
    "#### Print the sum of even numbers between 1 to 100"
   ]
  },
  {
   "cell_type": "code",
   "execution_count": 8,
   "metadata": {},
   "outputs": [
    {
     "name": "stdout",
     "output_type": "stream",
     "text": [
      "2550\n"
     ]
    }
   ],
   "source": [
    "n=1\n",
    "sum=0\n",
    "while n<=100:\n",
    "    if(n%2==0):\n",
    "        sum=sum+n\n",
    "    n=n+1\n",
    "print(sum)"
   ]
  },
  {
   "cell_type": "markdown",
   "metadata": {},
   "source": [
    "### Example 5\n",
    "\n",
    "#### Input is a number\n",
    "#### output must be reverse of input"
   ]
  },
  {
   "cell_type": "code",
   "execution_count": 9,
   "metadata": {},
   "outputs": [
    {
     "name": "stdout",
     "output_type": "stream",
     "text": [
      "Enter a number:4\n",
      "4\n"
     ]
    }
   ],
   "source": [
    "x=int(input(\"Enter a number:\"))\n",
    "while(x!=0):\n",
    "    r=x%10\n",
    "    print(r)\n",
    "    x=x//10\n",
    "    \n",
    "    "
   ]
  },
  {
   "cell_type": "markdown",
   "metadata": {},
   "source": [
    "### Example 6\n",
    "\n",
    "#### Input is a number \n",
    "#### output is the sum of even numbers in  the input"
   ]
  },
  {
   "cell_type": "code",
   "execution_count": 10,
   "metadata": {},
   "outputs": [
    {
     "name": "stdout",
     "output_type": "stream",
     "text": [
      "Enter a number:6\n",
      "6\n"
     ]
    }
   ],
   "source": [
    "sum=0\n",
    "x=int(input(\"Enter a number:\"))\n",
    "while(x!=0):\n",
    "    r=x%10\n",
    "    if r%2==0:\n",
    "        sum=sum+r\n",
    "    x=x//10\n",
    "print(sum)"
   ]
  },
  {
   "cell_type": "markdown",
   "metadata": {},
   "source": [
    "### Example 7\n",
    "\n",
    "#### Input is  a number \n",
    "#### output is the digits of the number reversly spelled "
   ]
  },
  {
   "cell_type": "code",
   "execution_count": 11,
   "metadata": {},
   "outputs": [
    {
     "name": "stdout",
     "output_type": "stream",
     "text": [
      "Enter a number:345\n",
      "Five\n",
      "Four\n",
      "Three\n"
     ]
    }
   ],
   "source": [
    "x=int(input(\"Enter a number:\"))\n",
    "while(x!=0):\n",
    "    r=x%10\n",
    "    if r==0:\n",
    "        print(\"Zero\")\n",
    "    elif(r==1):\n",
    "        print(\"One\")\n",
    "    elif(r==2):\n",
    "        print(\"Two\")\n",
    "    elif(r==3):\n",
    "        print(\"Three\")\n",
    "    elif(r==4):\n",
    "        print(\"Four\")\n",
    "    elif(r==5):\n",
    "        print(\"Five\")\n",
    "    elif(r==6):\n",
    "        print(\"Six\")\n",
    "    elif(r==7):\n",
    "        print(\"Seven\")\n",
    "    elif(r==8):\n",
    "        print(\"Eight\") \n",
    "    elif(r==9):\n",
    "        print(\"Nine\")\n",
    "    x=x//10"
   ]
  },
  {
   "cell_type": "markdown",
   "metadata": {},
   "source": [
    "### Example  8\n",
    "#### Take 3 inputs\n",
    "#### Output must be count of first input in between 2nd and 3rd inputs\n",
    "#### Test cases:\n",
    "* 6,60,65 -> 6\n",
    "* 7,70,88 -> 12\n",
    "* 2,120,220 ->42"
   ]
  },
  {
   "cell_type": "code",
   "execution_count": 12,
   "metadata": {},
   "outputs": [
    {
     "name": "stdout",
     "output_type": "stream",
     "text": [
      "Enter a number:2\n",
      "Enter a number:120\n",
      "Enter a number:220\n",
      "42\n"
     ]
    }
   ],
   "source": [
    "x=int(input(\"Enter a number:\"))\n",
    "y=int(input(\"Enter a number:\"))\n",
    "z=int(input(\"Enter a number:\"))\n",
    "count=0\n",
    "n=y\n",
    "while n<=z:\n",
    "    m=n\n",
    "    while(m!=0):\n",
    "        r=m%10\n",
    "        if r==x:\n",
    "            count=count+1\n",
    "        m=m//10\n",
    "    n=n+1\n",
    "print(count)"
   ]
  },
  {
   "cell_type": "markdown",
   "metadata": {},
   "source": [
    "### Functional Programming in phython\n",
    "\n",
    "#### Functions can be used to perform the specific task in the programming .\n",
    "#### Function in phython starts with def(Keyword)\n"
   ]
  },
  {
   "cell_type": "code",
   "execution_count": 22,
   "metadata": {},
   "outputs": [
    {
     "name": "stdout",
     "output_type": "stream",
     "text": [
      "1     2     3     4     5     6     7     8     9     \n",
      "1     2     3     4     5     6     7     8     9     10     11     12     13     14     15     \n"
     ]
    }
   ],
   "source": [
    "def printNaturalNumbers(n):\n",
    "    count=1\n",
    "    while(count<=n):\n",
    "        print(count,end=\"     \")\n",
    "        count=count+1\n",
    "    print()\n",
    "    return\n",
    "printNaturalNumbers(9)\n",
    "printNaturalNumbers(15)"
   ]
  },
  {
   "cell_type": "markdown",
   "metadata": {},
   "source": [
    "### Example 2\n",
    "\n",
    "#### Find the factorial of a given number\n",
    "\n"
   ]
  },
  {
   "cell_type": "code",
   "execution_count": 26,
   "metadata": {
    "scrolled": true
   },
   "outputs": [
    {
     "data": {
      "text/plain": [
       "3628800"
      ]
     },
     "execution_count": 26,
     "metadata": {},
     "output_type": "execute_result"
    }
   ],
   "source": [
    "def findfact(n):\n",
    "    fact=1\n",
    "    while(n!=0):\n",
    "        fact=fact*n\n",
    "        n=n-1\n",
    "    return fact\n",
    "findfact(5)\n",
    "findfact(10)"
   ]
  },
  {
   "cell_type": "markdown",
   "metadata": {},
   "source": [
    "# Example 3\n",
    "\n",
    "### Program to find the count of palondroms between the limits\n",
    " \n",
    "## Test cases:\n",
    "*  10,30 -----2\n",
    "*  1,10  -----9\n",
    "*  1,100 -----18"
   ]
  },
  {
   "cell_type": "code",
   "execution_count": 11,
   "metadata": {},
   "outputs": [
    {
     "name": "stdout",
     "output_type": "stream",
     "text": [
      "9\n"
     ]
    }
   ],
   "source": [
    "def pallandrom(n1,n2):\n",
    "    count=0\n",
    "    while(n1<=n2):\n",
    "        stat = n1\n",
    "        rev = 0\n",
    "        while stat!=0:\n",
    "            r=stat%10\n",
    "            rev=rev*10+r\n",
    "            stat =stat//10\n",
    "        if rev ==n1:\n",
    "            count = count+1\n",
    "        n1 = n1 + 1\n",
    "    return count\n",
    "print(pallandrom(1,10))\n",
    "    \n",
    "    "
   ]
  },
  {
   "cell_type": "markdown",
   "metadata": {},
   "source": [
    "### Example 1\n",
    "\n",
    "#### Print sum of even numbers"
   ]
  },
  {
   "cell_type": "code",
   "execution_count": 13,
   "metadata": {},
   "outputs": [
    {
     "name": "stdout",
     "output_type": "stream",
     "text": [
      "90\n"
     ]
    }
   ],
   "source": [
    "def printeven(n):\n",
    "    count=0\n",
    "    sum=0\n",
    "    while count!=n:\n",
    "        if count%2==0:\n",
    "            sum=sum+count\n",
    "        count=count+1\n",
    "    return sum\n",
    "\n",
    "print(printeven(20))"
   ]
  },
  {
   "cell_type": "markdown",
   "metadata": {},
   "source": [
    "### Example 2\n",
    "\n",
    "#### Print the list of factors"
   ]
  },
  {
   "cell_type": "code",
   "execution_count": 12,
   "metadata": {},
   "outputs": [
    {
     "name": "stdout",
     "output_type": "stream",
     "text": [
      "1 2 3 4 6 "
     ]
    }
   ],
   "source": [
    "def factorslist(n):\n",
    "    i=1\n",
    "    while i!=n:\n",
    "        if n%i==0:\n",
    "            print(i,end=\" \")\n",
    "        i=i+1\n",
    "    return \n",
    "factorslist(12)\n",
    "        "
   ]
  },
  {
   "cell_type": "markdown",
   "metadata": {},
   "source": [
    "### Example of list \n",
    "\n",
    "* list1 = [1,2,3,4,5]\n",
    "* list2 = [\"Aravind\",\"Anil\",\"Akhil\",\"Akash\"]\n",
    "\n",
    "\n"
   ]
  },
  {
   "cell_type": "code",
   "execution_count": 29,
   "metadata": {},
   "outputs": [
    {
     "name": "stdout",
     "output_type": "stream",
     "text": [
      "1\n",
      "2\n",
      "3\n",
      "4\n",
      "5\n",
      "6\n",
      "7\n",
      "[4, 5, 6, 7]\n",
      "[1, 2, 3]\n",
      "[1, 2, 3, 4, 5, 6, 7]\n"
     ]
    }
   ],
   "source": [
    "list1 = [1,2,3,4,5,6,7]\n",
    "for x in list1:\n",
    "    print(x)\n",
    "print(list1[3:7])\n",
    "print(list1[:3])\n",
    "print(list1[:7])"
   ]
  },
  {
   "cell_type": "markdown",
   "metadata": {},
   "source": [
    "## For loop \n",
    " ### Syntax\n",
    "     for <variable name> in <seq>:\n",
    "             <statements>\n",
    "             "
   ]
  },
  {
   "cell_type": "markdown",
   "metadata": {},
   "source": [
    "### Example 1"
   ]
  },
  {
   "cell_type": "code",
   "execution_count": 19,
   "metadata": {},
   "outputs": [
    {
     "name": "stdout",
     "output_type": "stream",
     "text": [
      "Akhil Aravind Anil Akash "
     ]
    }
   ],
   "source": [
    "list2 = [\"Akhil\",\"Aravind\",\"Anil\",\"Akash\"]\n",
    "for x in list2:\n",
    "    print(x,end=\" \")\n",
    "    "
   ]
  },
  {
   "cell_type": "markdown",
   "metadata": {},
   "source": [
    "### Example 2"
   ]
  },
  {
   "cell_type": "code",
   "execution_count": 34,
   "metadata": {},
   "outputs": [
    {
     "name": "stdout",
     "output_type": "stream",
     "text": [
      "1\n",
      "2\n",
      "3\n",
      "4\n",
      "5\n",
      "6\n",
      "7\n",
      "[2, 3, 4, 5, 6]\n",
      "[3, 4, 5]\n",
      "[1, 4, 7]\n",
      "[7, 5, 3, 1]\n"
     ]
    }
   ],
   "source": [
    "list1 = [1,2,3,4,5,6,7]\n",
    "for x in list1:\n",
    "    print(x)\n",
    "print(list1[1:-1])\n",
    "print(list1[2:-2])\n",
    "print(list1[::3])\n",
    "print(list1[::-2])\n"
   ]
  },
  {
   "cell_type": "markdown",
   "metadata": {},
   "source": [
    "## List with range"
   ]
  },
  {
   "cell_type": "code",
   "execution_count": 38,
   "metadata": {},
   "outputs": [
    {
     "name": "stdout",
     "output_type": "stream",
     "text": [
      "['Akhil', 'Aravind', 'Anil', 1]\n",
      "['Akhil', 'Aravind', 15, 1]\n",
      "['Akhil', 'Aravind', 15]\n",
      "['Akhil', 'Gitam', 15]\n",
      "[1, 2, 3]\n",
      "['Akhil', 'Gitam', 15, 1, 2, 3]\n"
     ]
    }
   ],
   "source": [
    "list2 = [\"Akhil\",\"Aravind\",\"Anil\",1]\n",
    "print(list2)\n",
    "list2[2]=15 #updating the list item \n",
    "print(list2)\n",
    "del list2[3] #deleting a list item\n",
    "print(list2)\n",
    "list2[1]=\"Gitam\"\n",
    "print(list2)\n",
    "list3=[1,2,3]\n",
    "print(list3)\n",
    "print(list2+list3)#concatination of both the lines\n",
    "\n"
   ]
  },
  {
   "cell_type": "code",
   "execution_count": 46,
   "metadata": {},
   "outputs": [
    {
     "name": "stdout",
     "output_type": "stream",
     "text": [
      "[1, 2, 3, 4, 5]\n",
      "[1, 2, 4, 5]\n",
      "4\n",
      "[1, 2, 4, 15, 15, 150, 1, 3, 1]\n",
      "3\n",
      "1\n"
     ]
    }
   ],
   "source": [
    "list1 = [1,2,3,4,5]\n",
    "print(list1)\n",
    "del list1[2]\n",
    "print(list1)\n",
    "list1[3] = 15\n",
    "print(len(list1))#to find the len of the list\n",
    "list1.append(15)\n",
    "list1.append(150)\n",
    "list1.append(1)\n",
    "list1.append(3)\n",
    "list1.append(1)\n",
    "print(list1)\n",
    "print(list1.count(1))\n",
    "print(list1.count(3))"
   ]
  },
  {
   "cell_type": "markdown",
   "metadata": {},
   "source": [
    "## List methods\n",
    "### * Index(obj)\n",
    "#### The index method gives the index of the object in the list\n",
    "\n",
    "### * Remove(obj)\n",
    "#### The remove method removes the passed object from the list\n",
    "\n",
    "### * Reverse(obj)\n",
    "#### the reverse option prints the reverse of the list"
   ]
  },
  {
   "cell_type": "markdown",
   "metadata": {},
   "source": [
    "### Index(obj)"
   ]
  },
  {
   "cell_type": "code",
   "execution_count": 54,
   "metadata": {},
   "outputs": [
    {
     "name": "stdout",
     "output_type": "stream",
     "text": [
      "['Akhil', 'Aravind', 'Anil', 1]\n",
      "0\n",
      "3\n",
      "4\n",
      "['Akhil', 'Aravind', 2019, 'Anil', 1]\n",
      "5\n",
      "['Akhil', 'Aravind', 2019, 'Anil', 2019, 1]\n"
     ]
    }
   ],
   "source": [
    "list2 = ['Akhil','Aravind','Anil',1]\n",
    "print(list2)\n",
    "print(list2.index(\"Akhil\"))#Finding the index of the object in the list\n",
    "print(list2.index(1))\n",
    "print(len(list2))\n",
    "list2.insert(2,2019)\n",
    "print(list2)\n",
    "print(len(list2))\n",
    "list2.insert(4,2019)\n",
    "print(list2)"
   ]
  },
  {
   "cell_type": "markdown",
   "metadata": {},
   "source": [
    "### Remove(obj)"
   ]
  },
  {
   "cell_type": "code",
   "execution_count": 56,
   "metadata": {},
   "outputs": [
    {
     "name": "stdout",
     "output_type": "stream",
     "text": [
      "['Akhil', 'Aravind', 'Anil', 1]\n",
      "['Aravind', 'Anil', 1]\n"
     ]
    }
   ],
   "source": [
    "list2 = ['Akhil','Aravind','Anil',1]\n",
    "print(list2)\n",
    "list2.remove('Akhil')\n",
    "print(list2)\n"
   ]
  },
  {
   "cell_type": "markdown",
   "metadata": {},
   "source": [
    "### Reverse(obj)\n"
   ]
  },
  {
   "cell_type": "code",
   "execution_count": 55,
   "metadata": {},
   "outputs": [
    {
     "name": "stdout",
     "output_type": "stream",
     "text": [
      "['Akhil', 'Aravind', 'Anil', 1]\n",
      "[1, 'Anil', 'Aravind', 'Akhil']\n"
     ]
    }
   ],
   "source": [
    "list2 = ['Akhil','Aravind','Anil',1]\n",
    "print(list2)\n",
    "list2.reverse()\n",
    "print(list2)"
   ]
  },
  {
   "cell_type": "markdown",
   "metadata": {},
   "source": [
    "# Data structures :\n",
    "## * Searching a data\n",
    "## * Sort a data\n",
    "## * Storing of data\n"
   ]
  },
  {
   "cell_type": "markdown",
   "metadata": {},
   "source": [
    "## Linear search\n",
    "### Can be applied on sorted or unsorted list"
   ]
  },
  {
   "cell_type": "markdown",
   "metadata": {},
   "source": [
    "### Example 1"
   ]
  },
  {
   "cell_type": "code",
   "execution_count": 65,
   "metadata": {},
   "outputs": [
    {
     "name": "stdout",
     "output_type": "stream",
     "text": [
      "Target item is not found\n",
      "Target item is found\n"
     ]
    }
   ],
   "source": [
    "def linearsearch(a,tar): \n",
    "    flag=0\n",
    "    for i in range(len(a)):\n",
    "            if a[i]==tar:\n",
    "                flag=1\n",
    "                break\n",
    "    if flag!=0:\n",
    "        print(\"Target item is found\")\n",
    "    else:\n",
    "        print(\"Target item is not found\")\n",
    "\n",
    "a=[16,2,12,6,9,7,1]\n",
    "linearsearch(a,61)\n",
    "linearsearch(a,6)"
   ]
  },
  {
   "cell_type": "markdown",
   "metadata": {},
   "source": [
    "### Example 2"
   ]
  },
  {
   "cell_type": "code",
   "execution_count": null,
   "metadata": {},
   "outputs": [],
   "source": [
    "def linearexample(a,item):\n",
    "    for i in range(len(a))\n",
    "    \n",
    "\n",
    "\n",
    "\n",
    "a=[1,5,9,6,5,15,12,5]\n",
    "linearexample(a,5)"
   ]
  },
  {
   "cell_type": "markdown",
   "metadata": {},
   "source": [
    "### Example 3\n",
    "#### input:a list\n",
    "#### Output:a seq of characters\n",
    "#### Test Cases:\n",
    "#### [1,5,9,6,5,15,12,5],tar = 5       -->     !! !!!!! !!!!!!!\n"
   ]
  },
  {
   "cell_type": "code",
   "execution_count": 7,
   "metadata": {},
   "outputs": [
    {
     "name": "stdout",
     "output_type": "stream",
     "text": [
      "!!\n",
      "!!!!!\n",
      "!!!!!!!!\n"
     ]
    }
   ],
   "source": [
    "def char(a,item):\n",
    "    for i in range (len(a)):\n",
    "        if a[i]==item:\n",
    "            j=0\n",
    "            while j!=i+1:\n",
    "                print(\"!\",end=\"\")\n",
    "                j=j+1\n",
    "            print(end=\"\\n\")\n",
    "a=[1,5,9,6,5,15,12,5]\n",
    "char(a,5)            "
   ]
  },
  {
   "cell_type": "markdown",
   "metadata": {},
   "source": [
    "### Example 4\n",
    "#### Input : A list\n",
    "#### Output : As per the given \n",
    "#### Test cases :-\n",
    "[15,12,2,9,18,36,45] --60\n",
    "##### A list item should be perfect multiple of 3 & 5\n",
    "##### Sum of all the list items which is perfect multiple of 3 & 5"
   ]
  },
  {
   "cell_type": "code",
   "execution_count": 9,
   "metadata": {},
   "outputs": [
    {
     "data": {
      "text/plain": [
       "60"
      ]
     },
     "execution_count": 9,
     "metadata": {},
     "output_type": "execute_result"
    }
   ],
   "source": [
    "def linearexample(a):\n",
    "    sum=0\n",
    "    for i in range(len(a)):\n",
    "        if a[i]%3==0 and a[i]%5==0:\n",
    "            sum = sum+a[i]\n",
    "    return sum\n",
    "linearexample([15,12,2,9,18,36,45])"
   ]
  },
  {
   "cell_type": "markdown",
   "metadata": {},
   "source": [
    "### Example 5\n",
    "#### Input : List\n",
    "#### Output : Formatted output\n",
    "### Test cases \n",
    "[1,2,3,4,5]---1 3 8 15 5\n"
   ]
  },
  {
   "cell_type": "code",
   "execution_count": 10,
   "metadata": {},
   "outputs": [
    {
     "name": "stdout",
     "output_type": "stream",
     "text": [
      "1 3 8 15 5 "
     ]
    }
   ],
   "source": [
    "def lin(a):\n",
    "    for i in range (len(a)):\n",
    "        if i==0 or i==(len(a)-1):\n",
    "            print(a[i],end=\" \")\n",
    "        else:\n",
    "            print(a[i-1]*a[i+1],end=\" \")\n",
    "a=[1,2,3,4,5]\n",
    "lin(a)\n"
   ]
  },
  {
   "cell_type": "markdown",
   "metadata": {},
   "source": [
    "### Example 6\n",
    "#### Input : List \n",
    "#### Output : Formatted Output\n",
    "### Test cases:\n",
    "[1,6,9,4,16,19,22] ---1 9 19 22\n",
    "* First and last items to be printed as it is.\n",
    "* For the middle items need to check both sides of the number is even or not,if it is even then print that item otherwise skip that item."
   ]
  },
  {
   "cell_type": "code",
   "execution_count": 18,
   "metadata": {},
   "outputs": [
    {
     "name": "stdout",
     "output_type": "stream",
     "text": [
      "1 9 19 22 "
     ]
    }
   ],
   "source": [
    "def lin(a):\n",
    "    for i in range(len(a)):\n",
    "        if i==0 or i==(len(a)-1):\n",
    "            print(a[i],end=\" \")\n",
    "        elif a[i-1]%2==0 and a[i+1]%2==0:\n",
    "            print(a[i],end=\" \")\n",
    "a=[1,6,9,4,16,19,22]\n",
    "lin(a)"
   ]
  },
  {
   "cell_type": "markdown",
   "metadata": {},
   "source": [
    "### Binary Search:-\n",
    "#### * Only Sorted list\n",
    "#### * The list must be unique "
   ]
  },
  {
   "cell_type": "code",
   "execution_count": 1,
   "metadata": {},
   "outputs": [
    {
     "name": "stdout",
     "output_type": "stream",
     "text": [
      "Item is not found\n"
     ]
    }
   ],
   "source": [
    "def binary(a,l,r,item):\n",
    "    while l<=r:\n",
    "        m=l+(r-l)//2\n",
    "        if a[m]==item:\n",
    "            return m\n",
    "        if a[m]>item:\n",
    "            r=m-1\n",
    "        else:\n",
    "            l=m+1\n",
    "    return -1\n",
    "list1=[1,4,9,15,25,45,57,88,98]\n",
    "res=binary(list1,0,8,818)\n",
    "if res!=-1:\n",
    "    print(\"Item is found\")\n",
    "else:\n",
    "    print(\"Item is not found\")"
   ]
  },
  {
   "cell_type": "markdown",
   "metadata": {},
   "source": [
    "### Bubble sort\n"
   ]
  },
  {
   "cell_type": "code",
   "execution_count": 5,
   "metadata": {},
   "outputs": [
    {
     "name": "stdout",
     "output_type": "stream",
     "text": [
      "1 3 6 18 19 25 "
     ]
    }
   ],
   "source": [
    "def bubblesort(a):\n",
    "    for i in range(len(a)-1):\n",
    "        for j in range(len(a)-1):\n",
    "            if a[j]>a[j+1]:\n",
    "                a[j],a[j+1]=a[j+1],a[j]\n",
    "    for i in range(len(a)):\n",
    "        print(a[i],end=\" \")\n",
    "list1=[19,1,25,6,18,3]\n",
    "bubblesort(list1)"
   ]
  },
  {
   "cell_type": "markdown",
   "metadata": {},
   "source": [
    "## Strings in Phython\n",
    "### A string is a sequence of characters < br>\n",
    "### The conversion of characters to a number is happens "
   ]
  },
  {
   "cell_type": "code",
   "execution_count": 9,
   "metadata": {},
   "outputs": [
    {
     "name": "stdout",
     "output_type": "stream",
     "text": [
      "Application\n",
      "Application test\n",
      "working\n",
      "Completed\n",
      "List\n",
      "Strings\n",
      "Phython\n"
     ]
    }
   ],
   "source": [
    "# Creating a string\n",
    "str=\"Application\"\n",
    "print(str)\n",
    "\n",
    "str=\"\"\"Application test\n",
    "working\n",
    "Completed\n",
    "List\n",
    "Strings\n",
    "Phython\"\"\"\n",
    "print(str)"
   ]
  },
  {
   "cell_type": "code",
   "execution_count": 12,
   "metadata": {},
   "outputs": [
    {
     "name": "stdout",
     "output_type": "stream",
     "text": [
      "Application\n",
      "str[0]= A\n",
      "str[1]= p\n",
      "str[-1]= n\n",
      "str[1:5]= ppli\n",
      "str[:5]= Appli\n",
      "str[5:-2]= cati\n",
      "str[::-1]= noitacilppA\n"
     ]
    }
   ],
   "source": [
    "str=\"Application\"\n",
    "print(str)\n",
    "print(\"str[0]=\",str[0])\n",
    "print(\"str[1]=\",str[1])\n",
    "print(\"str[-1]=\",str[-1])\n",
    "print(\"str[1:5]=\",str[1:5])\n",
    "print(\"str[:5]=\",str[:5])\n",
    "print(\"str[5:-2]=\",str[5:-2])\n",
    "print(\"str[::-1]=\",str[::-1])# used to reverse the string"
   ]
  },
  {
   "cell_type": "code",
   "execution_count": null,
   "metadata": {},
   "outputs": [],
   "source": []
  }
 ],
 "metadata": {
  "kernelspec": {
   "display_name": "Python 3",
   "language": "python",
   "name": "python3"
  },
  "language_info": {
   "codemirror_mode": {
    "name": "ipython",
    "version": 3
   },
   "file_extension": ".py",
   "mimetype": "text/x-python",
   "name": "python",
   "nbconvert_exporter": "python",
   "pygments_lexer": "ipython3",
   "version": "3.7.3"
  }
 },
 "nbformat": 4,
 "nbformat_minor": 2
}
