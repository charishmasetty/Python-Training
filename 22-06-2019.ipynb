{
 "cells": [
  {
   "cell_type": "markdown",
   "metadata": {},
   "source": [
    "### Example 2"
   ]
  },
  {
   "cell_type": "code",
   "execution_count": 1,
   "metadata": {},
   "outputs": [
    {
     "name": "stdout",
     "output_type": "stream",
     "text": [
      "yes\n"
     ]
    }
   ],
   "source": [
    "x=20\n",
    "if x==20:\n",
    "    print(\"yes\")"
   ]
  },
  {
   "cell_type": "markdown",
   "metadata": {},
   "source": [
    "### Example 3\n",
    "\n",
    "#### if-else "
   ]
  },
  {
   "cell_type": "code",
   "execution_count": 2,
   "metadata": {},
   "outputs": [
    {
     "name": "stdout",
     "output_type": "stream",
     "text": [
      "Hello ge\n"
     ]
    }
   ],
   "source": [
    "x=10\n",
    "if x>15:\n",
    "    print(\"Hello gm\")\n",
    "else:\n",
    "    print(\"Hello ge\")"
   ]
  },
  {
   "cell_type": "markdown",
   "metadata": {},
   "source": [
    "### Example 4\n",
    "\n",
    "#### x and y is the input largest between them"
   ]
  },
  {
   "cell_type": "code",
   "execution_count": 3,
   "metadata": {},
   "outputs": [
    {
     "name": "stdout",
     "output_type": "stream",
     "text": [
      "y is greater\n"
     ]
    }
   ],
   "source": [
    "x=10\n",
    "y=20\n",
    "if x>y:\n",
    "    print(\"x is greater\")\n",
    "else:\n",
    "    print(\"y is greater\")"
   ]
  },
  {
   "cell_type": "markdown",
   "metadata": {},
   "source": [
    "### Example 5\n",
    "\n",
    "#### Need 2 numbers as input if both are same than output must be square of first number if not the output must be multiplication of the inputs"
   ]
  },
  {
   "cell_type": "code",
   "execution_count": 4,
   "metadata": {},
   "outputs": [
    {
     "name": "stdout",
     "output_type": "stream",
     "text": [
      "200\n"
     ]
    }
   ],
   "source": [
    "x=10\n",
    "y=20\n",
    "if x==y:\n",
    "    print(x*x)\n",
    "else:\n",
    "    print(x*y)\n"
   ]
  },
  {
   "cell_type": "markdown",
   "metadata": {},
   "source": [
    "### Example 6\n",
    "\n",
    "#### Only one number as input and look if the number is 0,-,+."
   ]
  },
  {
   "cell_type": "code",
   "execution_count": 5,
   "metadata": {},
   "outputs": [
    {
     "name": "stdout",
     "output_type": "stream",
     "text": [
      "It is a negative number\n"
     ]
    }
   ],
   "source": [
    "x=-10\n",
    "if x<0:\n",
    "    print(\"It is a negative number\")\n",
    "elif x>0:\n",
    "    print(\"It is a positive number\")\n",
    "elif x==0:\n",
    "    print(\"Its a zero\")"
   ]
  },
  {
   "cell_type": "code",
   "execution_count": 12,
   "metadata": {},
   "outputs": [
    {
     "name": "stdout",
     "output_type": "stream",
     "text": [
      "Enter a number:2\n",
      "Enter a number:120\n",
      "Enter a number:220\n",
      "42\n"
     ]
    }
   ],
   "source": [
    "x=int(input(\"Enter a number:\"))\n",
    "y=int(input(\"Enter a number:\"))\n",
    "z=int(input(\"Enter a number:\"))\n",
    "count=0\n",
    "n=y\n",
    "while n<=z:\n",
    "    m=n\n",
    "    while(m!=0):\n",
    "        r=m%10\n",
    "        if r==x:\n",
    "            count=count+1\n",
    "        m=m//10\n",
    "    n=n+1\n",
    "print(count)"
   ]
  },
  {
   "cell_type": "markdown",
   "metadata": {},
   "source": [
    "### Functional Programming in phython\n",
    "\n",
    "#### Functions can be used to perform the specific task in the programming .\n",
    "#### Function in phython starts with def(Keyword)\n"
   ]
  },
  {
   "cell_type": "code",
   "execution_count": 22,
   "metadata": {},
   "outputs": [
    {
     "name": "stdout",
     "output_type": "stream",
     "text": [
      "1     2     3     4     5     6     7     8     9     \n",
      "1     2     3     4     5     6     7     8     9     10     11     12     13     14     15     \n"
     ]
    }
   ],
   "source": [
    "def printNaturalNumbers(n):\n",
    "    count=1\n",
    "    while(count<=n):\n",
    "        print(count,end=\"     \")\n",
    "        count=count+1\n",
    "    print()\n",
    "    return\n",
    "printNaturalNumbers(9)\n",
    "printNaturalNumbers(15)"
   ]
  },
  {
   "cell_type": "markdown",
   "metadata": {},
   "source": [
    "### Example 2\n",
    "\n",
    "#### Find the factorial of a given number\n",
    "\n"
   ]
  },
  {
   "cell_type": "code",
   "execution_count": 26,
   "metadata": {
    "scrolled": true
   },
   "outputs": [
    {
     "data": {
      "text/plain": [
       "3628800"
      ]
     },
     "execution_count": 26,
     "metadata": {},
     "output_type": "execute_result"
    }
   ],
   "source": [
    "def findfact(n):\n",
    "    fact=1\n",
    "    while(n!=0):\n",
    "        fact=fact*n\n",
    "        n=n-1\n",
    "    return fact\n",
    "findfact(5)\n",
    "findfact(10)"
   ]
  },
  {
   "cell_type": "markdown",
   "metadata": {},
   "source": [
    "# Example 3\n",
    "\n",
    "### Program to find the count of palondroms between the limits\n",
    " \n",
    "## Test cases:\n",
    "*  10,30 -----2\n",
    "*  1,10  -----9\n",
    "*  1,100 -----18"
   ]
  },
  {
   "cell_type": "code",
   "execution_count": 11,
   "metadata": {},
   "outputs": [
    {
     "name": "stdout",
     "output_type": "stream",
     "text": [
      "9\n"
     ]
    }
   ],
   "source": [
    "def pallandrom(n1,n2):\n",
    "    count=0\n",
    "    while(n1<=n2):\n",
    "        stat = n1\n",
    "        rev = 0\n",
    "        while stat!=0:\n",
    "            r=stat%10\n",
    "            rev=rev*10+r\n",
    "            stat =stat//10\n",
    "        if rev ==n1:\n",
    "            count = count+1\n",
    "        n1 = n1 + 1\n",
    "    return count\n",
    "print(pallandrom(1,10))\n",
    "    \n",
    "    "
   ]
  }
 ],
 "metadata": {
  "kernelspec": {
   "display_name": "Python 3",
   "language": "python",
   "name": "python3"
  },
  "language_info": {
   "codemirror_mode": {
    "name": "ipython",
    "version": 3
   },
   "file_extension": ".py",
   "mimetype": "text/x-python",
   "name": "python",
   "nbconvert_exporter": "python",
   "pygments_lexer": "ipython3",
   "version": "3.7.3"
  }
 },
 "nbformat": 4,
 "nbformat_minor": 2
}
