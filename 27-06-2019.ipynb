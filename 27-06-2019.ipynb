{
 "cells": [
  {
   "cell_type": "markdown",
   "metadata": {},
   "source": [
    "## File Handling in Python\n",
    "#### File :-Document containing information residing on the permanant storage types--docs,Pdf,text etc\n",
    "#### File I/O:input and output\n",
    "    keyboard as input\n",
    "    Screen as output\n",
    "#### Read/write\n",
    "    open()-opens a file\n",
    "    close()-closes a file\n",
    "    \n",
    "    \"r\"-it opens the file for reading\n",
    "    \"w\"-The mode open the file writing\n",
    "               If the file name is not present \n",
    "               It creates a new file and write some data into it. \n",
    "    "
   ]
  },
  {
   "cell_type": "code",
   "execution_count": 41,
   "metadata": {},
   "outputs": [
    {
     "name": "stdout",
     "output_type": "stream",
     "text": [
      "File is created successfully and data is written\n"
     ]
    }
   ],
   "source": [
    "#function to create a file and some data\n",
    "def createfile(filename):\n",
    "    f=open(filename,\"w\")\n",
    "    for i in range(10):\n",
    "        f.write(\"This is %d line\\n\"%i)\n",
    "    print(\"File is created successfully and data is written\")\n",
    "    f.close()\n",
    "    return\n",
    "createfile(\"file1.txt\")"
   ]
  },
  {
   "cell_type": "code",
   "execution_count": 8,
   "metadata": {},
   "outputs": [
    {
     "name": "stdout",
     "output_type": "stream",
     "text": [
      "This is 0 line\n",
      "This is 1 line\n",
      "This is 2 line\n",
      "This is 3 line\n",
      "This is 4 line\n",
      "This is 5 line\n",
      "This is 6 line\n",
      "This is 7 line\n",
      "This is 8 line\n",
      "This is 9 line\n",
      "New line 1\n",
      "New line 2\n",
      "New line 1\n",
      "New line 2\n",
      "New line 1\n",
      "New line 2\n",
      "\n"
     ]
    }
   ],
   "source": [
    "#function for reading the file data\n",
    "def readfile(filename):\n",
    "    f=open(filename,\"r\")\n",
    "    if f.mode==\"r\":\n",
    "        x=f.read()\n",
    "        print(x)\n",
    "    f.close()\n",
    "    return\n",
    "readfile(\"file1.txt\")"
   ]
  },
  {
   "cell_type": "code",
   "execution_count": 7,
   "metadata": {},
   "outputs": [],
   "source": [
    "#Data to append \n",
    "#Function to append the data to existing file\n",
    "def append(filename):\n",
    "    f=open(filename,\"a\")\n",
    "    f.write(\"New line 1\\n\")\n",
    "    f.write(\"New line 2\\n\")\n",
    "    f.close()\n",
    "    return\n",
    "append('file1.txt')"
   ]
  },
  {
   "cell_type": "code",
   "execution_count": 14,
   "metadata": {},
   "outputs": [
    {
     "name": "stdout",
     "output_type": "stream",
     "text": [
      "6\n"
     ]
    }
   ],
   "source": [
    "def data(filename,word):\n",
    "    count=0\n",
    "    f=open(filename,\"r\")\n",
    "    if f.mode=='r':\n",
    "        x=f.read()\n",
    "        lst=x.split()\n",
    "    count +=lst.count(word)\n",
    "    return count\n",
    "print(data(\"file1.txt\",\"New\"))"
   ]
  },
  {
   "cell_type": "code",
   "execution_count": 15,
   "metadata": {},
   "outputs": [
    {
     "name": "stdout",
     "output_type": "stream",
     "text": [
      "216\n"
     ]
    }
   ],
   "source": [
    "#Function to count the no. of characters in a string \n",
    "def count(filename):\n",
    "    f=open(filename,\"r\")\n",
    "    if f.mode==\"r\":\n",
    "        x=f.read()\n",
    "        lst=list(x)\n",
    "    return len(lst)\n",
    "print(count(\"file1.txt\"))"
   ]
  },
  {
   "cell_type": "code",
   "execution_count": 18,
   "metadata": {},
   "outputs": [
    {
     "name": "stdout",
     "output_type": "stream",
     "text": [
      "16\n"
     ]
    }
   ],
   "source": [
    "#Function to count the upper case charcter from the given file\n",
    "def count(filename):\n",
    "    c=0\n",
    "    f=open(filename,\"r\")\n",
    "    if f.mode==\"r\":\n",
    "        x=f.read()\n",
    "        lst=list(x)\n",
    "        for x in lst:\n",
    "            if ord(x)>=65 and ord(x)<=90:\n",
    "                c=c+1\n",
    "    return c\n",
    "print(count(\"file1.txt\"))"
   ]
  },
  {
   "cell_type": "code",
   "execution_count": 9,
   "metadata": {},
   "outputs": [
    {
     "name": "stdout",
     "output_type": "stream",
     "text": [
      "16\n"
     ]
    }
   ],
   "source": [
    "# Function to count the no. of lines\n",
    "def count(filename):\n",
    "    c=0\n",
    "    f=open(filename,\"r\")\n",
    "    if f.mode==\"r\":\n",
    "        x=f.read()\n",
    "        lst=list(x)\n",
    "        for x in lst:\n",
    "            if x=='\\n':\n",
    "                c=c+1\n",
    "    return c\n",
    "print(count(\"file1.txt\"))"
   ]
  },
  {
   "cell_type": "code",
   "execution_count": 14,
   "metadata": {},
   "outputs": [
    {
     "name": "stdout",
     "output_type": "stream",
     "text": [
      "['This is 0 line', 'This is 1 line', 'This is 2 line', 'This is 3 line', 'This is 4 line', 'This is 5 line', 'This is 6 line', 'This is 7 line', 'This is 8 line', 'This is 9 line', 'New line 1', 'New line 2', 'New line 1', 'New line 2', 'New line 1', 'New line 2', '']\n",
      "16\n"
     ]
    }
   ],
   "source": [
    "# Function to count the no. of lines\n",
    "def count(filename):\n",
    "    c=0\n",
    "    f=open(filename,\"r\")\n",
    "    if f.mode==\"r\":\n",
    "        x=f.read()\n",
    "        lst=list(x.split('\\n'))\n",
    "#     for x in lst:\n",
    "#         if ord(x)==10:\n",
    "#             c=c+1\n",
    "        print(lst)\n",
    "    return len(lst)-1\n",
    "print(count(\"file1.txt\"))"
   ]
  },
  {
   "cell_type": "markdown",
   "metadata": {},
   "source": [
    "### Regular Expressions \n",
    "#### * Pattern Matching \n",
    "#### * Symbolic Notation of a pattern\n",
    "  * [0-9]-Any digit\n",
    "  * [a-z]-Any lower case characters\n",
    "  * [A-Z]-Any upper case characters\n",
    "  * ^[0-9]{2}-Regular expression will accept only for 2 digits\n",
    "      * Cap represents the start of regular expression\n",
    "      * Dollar represents the end of a regular expression\n",
    "  * [2468]-All single digit mutiples of 2\n",
    "  * ^[a-z]{5}-Accepts only 5 character string that to of lower case\n",
    "  * ^[a-zA-Z]{6}-Accepts upper as well as lower case upto 6 characters\n",
    "  * ^[a-zA-Z]{6-15}-Accepts upper as well as lower case characters with min of 6 and max of 15 characters \n",
    "  * ^[a-zA-Z0-9]{6-15}-Accepts upper as well as lower case characters with min of 6 and max of 15 characters \n",
    "  * ^[6-9][0-9]{9}-RE for indian phone numbers\n",
    "       * 9876839923--First digit [6-9][0-9]\n",
    "       \n",
    "       \n",
    "  * Emailid validation:username@domainname.extension\n",
    "      * username:\n",
    "          * Lenght will be:[6-15]\n",
    "          * Should not have \n",
    "          * No spl characters\n",
    "          * Character set: All digits and lower case \n",
    "      * Domain name:\n",
    "          * Lenght will be:[3-18]\n",
    "          * No spl characters\n",
    "          * Character set: All digits and lower case \n",
    "      * Extension:\n",
    "          * Lenght will be:[2-4]\n",
    "          * No spl characters\n",
    "          * Character set: All digits and lower case"
   ]
  },
  {
   "cell_type": "code",
   "execution_count": 23,
   "metadata": {},
   "outputs": [
    {
     "name": "stdout",
     "output_type": "stream",
     "text": [
      "True\n",
      "False\n",
      "True\n"
     ]
    }
   ],
   "source": [
    "import re\n",
    "def validphonenumber(number):\n",
    "    pattern='^[6-9][0-9]{9}$|^[0][6-9][0-9]{9}$|^[+][9][1][6-9][0-9]{9}$'\n",
    "    phone=str(number)\n",
    "    if re.match(pattern,phone):\n",
    "        return True\n",
    "    return False\n",
    "print(validphonenumber('9977338978'))\n",
    "print(validphonenumber('997733'))\n",
    "print(validphonenumber('+919977338978'))"
   ]
  },
  {
   "cell_type": "code",
   "execution_count": 29,
   "metadata": {},
   "outputs": [
    {
     "name": "stdout",
     "output_type": "stream",
     "text": [
      "True\n",
      "False\n"
     ]
    }
   ],
   "source": [
    "import re\n",
    "def validroll(number):\n",
    "    number=str(number)\n",
    "    pattern=\"^[1][5][2][U][1][A][0][1-9][0-6][0-9]$\"\n",
    "    if re.match(pattern,number):\n",
    "        return True\n",
    "    return False\n",
    "print(validroll('152U1A0555'))\n",
    "print(validroll('152U1A0485'))"
   ]
  },
  {
   "cell_type": "code",
   "execution_count": 36,
   "metadata": {},
   "outputs": [
    {
     "name": "stdout",
     "output_type": "stream",
     "text": [
      "True\n",
      "False\n"
     ]
    }
   ],
   "source": [
    "def validemail(email):\n",
    "    pattern=\"^[0-9a-z][0-9a-z_.]{4,13}[0-9a-z][@][a-z0-9]{3,18}[.][a-z]{2,4}$\"\n",
    "    if re.match(pattern,email):\n",
    "            return True\n",
    "    return False\n",
    "print(validemail(\"cherry.2000@gmail.com\"))\n",
    "print(validemail(\"$cherry@gmail.com\"))"
   ]
  },
  {
   "cell_type": "code",
   "execution_count": 37,
   "metadata": {},
   "outputs": [],
   "source": [
    "# Regular expression--password\n",
    "# Parameters:6-15\n",
    "# Accept lower case,upper case ,spl symbols(@,$,!)"
   ]
  },
  {
   "cell_type": "code",
   "execution_count": 43,
   "metadata": {},
   "outputs": [
    {
     "name": "stdout",
     "output_type": "stream",
     "text": [
      "File is created successfully and data is written\n"
     ]
    }
   ],
   "source": [
    "# file on the virtual machine or local machine\n",
    "createfile(\"file2.txt\")"
   ]
  },
  {
   "cell_type": "code",
   "execution_count": 46,
   "metadata": {},
   "outputs": [
    {
     "data": {
      "text/plain": [
       "90"
      ]
     },
     "execution_count": 46,
     "metadata": {},
     "output_type": "execute_result"
    }
   ],
   "source": [
    "def count(filename):\n",
    "    c=0\n",
    "    f=open(filename,\"r\")\n",
    "    if f.mode==\"r\":\n",
    "        x=f.read()\n",
    "        lst=list(x)\n",
    "        for x in lst:\n",
    "            if x.islower():\n",
    "                c=c+1\n",
    "    return c\n",
    "count(\"file2.txt\")"
   ]
  },
  {
   "cell_type": "code",
   "execution_count": 49,
   "metadata": {},
   "outputs": [
    {
     "data": {
      "text/plain": [
       "10"
      ]
     },
     "execution_count": 49,
     "metadata": {},
     "output_type": "execute_result"
    }
   ],
   "source": [
    "def count(filename):\n",
    "    c=0\n",
    "    f=open(filename,\"r\")\n",
    "    if f.mode==\"r\":\n",
    "        x=f.read()\n",
    "        lst=list(x)\n",
    "        for x in lst:\n",
    "            if ord(x)>=48 and ord(x)<=57:\n",
    "                c=c+1\n",
    "    return c\n",
    "count(\"file2.txt\")"
   ]
  },
  {
   "cell_type": "code",
   "execution_count": 50,
   "metadata": {},
   "outputs": [
    {
     "data": {
      "text/plain": [
       "40"
      ]
     },
     "execution_count": 50,
     "metadata": {},
     "output_type": "execute_result"
    }
   ],
   "source": [
    "def count(filename):\n",
    "    c=0\n",
    "    f=open(filename,\"r\")\n",
    "    if f.mode==\"r\":\n",
    "        x=f.read()\n",
    "        lst=list(x)\n",
    "        for x in lst:\n",
    "            if x.islower() or x.isupper() or x.isnumeric():\n",
    "                c=c\n",
    "            else:\n",
    "                c=c+1\n",
    "    return c\n",
    "count(\"file2.txt\")"
   ]
  },
  {
   "cell_type": "code",
   "execution_count": null,
   "metadata": {},
   "outputs": [],
   "source": []
  }
 ],
 "metadata": {
  "kernelspec": {
   "display_name": "Python 3",
   "language": "python",
   "name": "python3"
  },
  "language_info": {
   "codemirror_mode": {
    "name": "ipython",
    "version": 3
   },
   "file_extension": ".py",
   "mimetype": "text/x-python",
   "name": "python",
   "nbconvert_exporter": "python",
   "pygments_lexer": "ipython3",
   "version": "3.7.3"
  }
 },
 "nbformat": 4,
 "nbformat_minor": 2
}
